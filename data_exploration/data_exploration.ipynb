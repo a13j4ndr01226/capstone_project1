{
 "cells": [
  {
   "cell_type": "markdown",
   "id": "5f0e9bd4",
   "metadata": {},
   "source": [
    "# Step 4: Data Exploration\n",
    "\n",
    "This notebook peforms exploratory anlaysis on the enriched artist trend dataset. The goal is to understand the structure, quality, and content of the data before modeling and transforming.\n",
    "\n",
    "Outline\n",
    "- Loading Data and Preview\n",
    "- Descriptive Data\n",
    "- Cleaning\n"
   ]
  },
  {
   "cell_type": "markdown",
   "id": "656c1dbd",
   "metadata": {},
   "source": [
    "## Initial Data Preview\n",
    "\n",
    "When running pd.read_csv(), there was a warning regarding the 'id' column. To avoid the 'Data Type Warning: Mixed Types', data types were explicitly for all columns.\n",
    "\n",
    "Additionally, the genre column has multiple genres separated by semi-colons (;). This will need to be cleaned up after the exploratory portion of this notebook."
   ]
  },
  {
   "cell_type": "code",
   "execution_count": 2,
   "id": "de88cb94",
   "metadata": {},
   "outputs": [
    {
     "name": "stdout",
     "output_type": "stream",
     "text": [
      "Loaded shape: (18486055, 6)\n"
     ]
    },
    {
     "data": {
      "text/html": [
       "<div>\n",
       "<style scoped>\n",
       "    .dataframe tbody tr th:only-of-type {\n",
       "        vertical-align: middle;\n",
       "    }\n",
       "\n",
       "    .dataframe tbody tr th {\n",
       "        vertical-align: top;\n",
       "    }\n",
       "\n",
       "    .dataframe thead th {\n",
       "        text-align: right;\n",
       "    }\n",
       "</style>\n",
       "<table border=\"1\" class=\"dataframe\">\n",
       "  <thead>\n",
       "    <tr style=\"text-align: right;\">\n",
       "      <th></th>\n",
       "      <th>artist</th>\n",
       "      <th>id</th>\n",
       "      <th>genres</th>\n",
       "      <th>location</th>\n",
       "      <th>date</th>\n",
       "      <th>trend_score</th>\n",
       "    </tr>\n",
       "  </thead>\n",
       "  <tbody>\n",
       "    <tr>\n",
       "      <th>0</th>\n",
       "      <td>999999999</td>\n",
       "      <td>6uD2LjPHUjxrpax0se17Nc</td>\n",
       "      <td>acid techno; hard techno; techno; tekno</td>\n",
       "      <td>AK</td>\n",
       "      <td>2018-06-01</td>\n",
       "      <td>75.0</td>\n",
       "    </tr>\n",
       "    <tr>\n",
       "      <th>1</th>\n",
       "      <td>999999999</td>\n",
       "      <td>6uD2LjPHUjxrpax0se17Nc</td>\n",
       "      <td>acid techno; hard techno; techno; tekno</td>\n",
       "      <td>AK</td>\n",
       "      <td>2018-06-02</td>\n",
       "      <td>19.0</td>\n",
       "    </tr>\n",
       "    <tr>\n",
       "      <th>2</th>\n",
       "      <td>999999999</td>\n",
       "      <td>6uD2LjPHUjxrpax0se17Nc</td>\n",
       "      <td>acid techno; hard techno; techno; tekno</td>\n",
       "      <td>AK</td>\n",
       "      <td>2018-06-03</td>\n",
       "      <td>42.0</td>\n",
       "    </tr>\n",
       "    <tr>\n",
       "      <th>3</th>\n",
       "      <td>999999999</td>\n",
       "      <td>6uD2LjPHUjxrpax0se17Nc</td>\n",
       "      <td>acid techno; hard techno; techno; tekno</td>\n",
       "      <td>AK</td>\n",
       "      <td>2018-06-04</td>\n",
       "      <td>25.0</td>\n",
       "    </tr>\n",
       "    <tr>\n",
       "      <th>4</th>\n",
       "      <td>999999999</td>\n",
       "      <td>6uD2LjPHUjxrpax0se17Nc</td>\n",
       "      <td>acid techno; hard techno; techno; tekno</td>\n",
       "      <td>AK</td>\n",
       "      <td>2018-06-05</td>\n",
       "      <td>81.0</td>\n",
       "    </tr>\n",
       "  </tbody>\n",
       "</table>\n",
       "</div>"
      ],
      "text/plain": [
       "      artist                      id                                   genres  \\\n",
       "0  999999999  6uD2LjPHUjxrpax0se17Nc  acid techno; hard techno; techno; tekno   \n",
       "1  999999999  6uD2LjPHUjxrpax0se17Nc  acid techno; hard techno; techno; tekno   \n",
       "2  999999999  6uD2LjPHUjxrpax0se17Nc  acid techno; hard techno; techno; tekno   \n",
       "3  999999999  6uD2LjPHUjxrpax0se17Nc  acid techno; hard techno; techno; tekno   \n",
       "4  999999999  6uD2LjPHUjxrpax0se17Nc  acid techno; hard techno; techno; tekno   \n",
       "\n",
       "  location       date  trend_score  \n",
       "0       AK 2018-06-01         75.0  \n",
       "1       AK 2018-06-02         19.0  \n",
       "2       AK 2018-06-03         42.0  \n",
       "3       AK 2018-06-04         25.0  \n",
       "4       AK 2018-06-05         81.0  "
      ]
     },
     "execution_count": 2,
     "metadata": {},
     "output_type": "execute_result"
    }
   ],
   "source": [
    "\"\"\"Load Data and Preview\"\"\"\n",
    "\n",
    "import pandas as pd \n",
    "from pathlib import Path\n",
    "\n",
    "batch_date = \"2025_06_18\"\n",
    "file = f\"spotify_rising_with_trends_{batch_date}\"\n",
    "input_path = Path(f\"../data/stage2_trend_enrichment/{file}.csv\") #Verify this is the most up to date path\n",
    "\n",
    "#Column 'id' has a Data Type Warning: Mixed Types. The following specifies the data type to avoid this warning\n",
    "df = pd.read_csv(\n",
    "    input_path,\n",
    "    parse_dates=[\"date\"],\n",
    "    dtype={\n",
    "        \"artist\": str,\n",
    "        \"id\": str,\n",
    "        \"genres\": str,\n",
    "        \"location\": str,\n",
    "        \"trend_score\": float\n",
    "    }\n",
    ")\n",
    "print(\"Loaded shape:\", df.shape)\n",
    "df.head()"
   ]
  },
  {
   "cell_type": "markdown",
   "id": "65ac6e0c",
   "metadata": {},
   "source": [
    "## Descriptive Data\n",
    "\n",
    "The output below shows the genres field has a lot of null values, followed by the trend_score. These 2 fields will be significant for analyst to use downstream, so instead of removing these null rencords they will be transformed.\n",
    "\n",
    "Trend Score Null values will be replaced with 0.\n",
    "Genre Null values will be replaced with 'Unknown'.\n"
   ]
  },
  {
   "cell_type": "code",
   "execution_count": 3,
   "id": "4a257b0c",
   "metadata": {},
   "outputs": [
    {
     "name": "stdout",
     "output_type": "stream",
     "text": [
      "<class 'pandas.core.frame.DataFrame'>\n",
      "RangeIndex: 18486055 entries, 0 to 18486054\n",
      "Data columns (total 6 columns):\n",
      " #   Column       Dtype         \n",
      "---  ------       -----         \n",
      " 0   artist       object        \n",
      " 1   id           object        \n",
      " 2   genres       object        \n",
      " 3   location     object        \n",
      " 4   date         datetime64[ns]\n",
      " 5   trend_score  float64       \n",
      "dtypes: datetime64[ns](1), float64(1), object(4)\n",
      "memory usage: 846.2+ MB\n"
     ]
    },
    {
     "data": {
      "text/plain": [
       "artist               0\n",
       "id                   0\n",
       "genres         2674265\n",
       "location             0\n",
       "date                 0\n",
       "trend_score       2250\n",
       "dtype: int64"
      ]
     },
     "execution_count": 3,
     "metadata": {},
     "output_type": "execute_result"
    }
   ],
   "source": [
    "\"\"\"Descriptive Data\"\"\"\n",
    "\n",
    "df.info()\n",
    "df.describe(include='all')\n",
    "df.isna().sum()\n"
   ]
  },
  {
   "cell_type": "markdown",
   "id": "2f6d2cba",
   "metadata": {},
   "source": [
    "### Descriptive Data (Continued...)\n",
    "\n",
    "This histogram below shows the distribution of `trend_score` values across the raw dataset, before any cleaning or transformation has been applied.\n",
    "\n",
    "### Observations:\n",
    "- Most trend scores fall within the 0-100 range, as expected.\n",
    "- There are a few outlier values above 100 (e.g., up to ~350), which are likely anomalies.\n",
    "- The data is right-skewed, with a heavy concentration of lower trend scores.\n",
    "\n",
    "We will validate and potentially cap these outliers in the cleaning phase to ensure scores are within an expected 0–100 range.\n",
    "\n",
    "\n"
   ]
  },
  {
   "cell_type": "code",
   "execution_count": 4,
   "id": "d6ebbc5c",
   "metadata": {},
   "outputs": [
    {
     "data": {
      "image/png": "[encoded data removed]",
      "text/plain": [
       "<Figure size 640x480 with 1 Axes>"
      ]
     },
     "metadata": {},
     "output_type": "display_data"
    }
   ],
   "source": [
    "import matplotlib.pyplot as plt\n",
    "\n",
    "df['trend_score'].hist(bins=20)\n",
    "plt.title(\"Trend Score Distribution\")\n",
    "plt.xlabel(\"Score\")\n",
    "plt.ylabel(\"Frequency\")\n",
    "plt.show()\n"
   ]
  },
  {
   "cell_type": "markdown",
   "id": "0a5a60bb",
   "metadata": {},
   "source": [
    "### Descriptive Data (Continued...)\n",
    "\n",
    "### Column Homogeneity\n",
    "\n",
    "Before cleaning, we assess whether each column in the raw dataset contains consistent (homogeneous) data types and structures.\n",
    "\n",
    "Checks Performed:\n",
    "- `id` column: Verified that all values are of consistent length (expected: Spotify-style unique IDs).\n",
    "- `location` column: Checked for consistent 2-character region codes (e.g., US state abbreviations).\n",
    "- `genres` column: Evaluated whether each value is a valid string and whether any values are missing.\n",
    "\n",
    "### Observations:\n",
    "- The `id` and `location` columns appear consistent and well-formatted across all records.\n",
    "- The `genres` column has 2,674,265 missing values (~14.5% of the dataset), while 15,811,790 records contain valid genre information.\n",
    "\n",
    "This confirms that `genres` will require attention during the cleaning and normalization phase, but the data is otherwise structurally sound and ready to be transformed.\n"
   ]
  },
  {
   "cell_type": "code",
   "execution_count": 5,
   "id": "90288c2a",
   "metadata": {},
   "outputs": [
    {
     "name": "stdout",
     "output_type": "stream",
     "text": [
      "Rows with genres: 15,811,790\n",
      "Rows missing genres: 2,674,265\n"
     ]
    }
   ],
   "source": [
    "\"\"\" Homogeneity Check\"\"\"\n",
    "\n",
    "df['id'].apply(len).value_counts()\n",
    "df['location'].value_counts()\n",
    "df['genres'].apply(lambda x: isinstance(x, str)).value_counts()\n",
    "df_with_genres = df[df['genres'].notna()]\n",
    "df_missing_genres = df[df['genres'].isna()]\n",
    "\n",
    "print(f\"Rows with genres: {len(df_with_genres):,}\")\n",
    "print(f\"Rows missing genres: {len(df_missing_genres):,}\")\n",
    "\n"
   ]
  },
  {
   "cell_type": "markdown",
   "id": "1971701c",
   "metadata": {},
   "source": [
    "## Cleaning\n",
    "\n",
    "### Step 1: Fill Missing `trend_score` Values with 0\n",
    "\n",
    "Rather than dropping records where `trend_score` is null, we assume that a missing score represents no measurable trend on that day. We replace these with `0` to preserve date continuity for time series analysis.\n",
    "\n",
    "This ensures we don't lose temporal granularity when aggregating or visualizing artist or genre trends.\n",
    "\n"
   ]
  },
  {
   "cell_type": "code",
   "execution_count": 6,
   "id": "9c5952fb",
   "metadata": {},
   "outputs": [],
   "source": [
    "\"\"\" Cleaning \"\"\"\n",
    "\n",
    "#Replace null trend scores with 0\n",
    "\n",
    "df['trend_score'] = df['trend_score'].fillna(0)\n",
    "\n",
    "\n"
   ]
  },
  {
   "cell_type": "markdown",
   "id": "19056f3a",
   "metadata": {},
   "source": [
    "### Cleaning (Continued...)\n",
    "\n",
    "### Step 2: Strip Whitespace\n",
    "To prevent issues during joins and grouping, we remove leading/trailing whitespace from all string columns."
   ]
  },
  {
   "cell_type": "code",
   "execution_count": 7,
   "id": "c72aaf49",
   "metadata": {},
   "outputs": [],
   "source": [
    "#Trim whitespace from all string columns\n",
    "\n",
    "string_columns = [\"artist\", \"id\", \"genres\", \"location\"]\n",
    "df[string_columns] = df[string_columns].apply(lambda col: col.str.strip())\n"
   ]
  },
  {
   "cell_type": "markdown",
   "id": "4d292753",
   "metadata": {},
   "source": [
    "### Cleaning (Continued...)\n",
    "\n",
    "### Step 3: Validate Score Range\n",
    "We enforce a logical constraint that `trend_score` must be between 0 and 100.\n",
    "\n"
   ]
  },
  {
   "cell_type": "code",
   "execution_count": 8,
   "id": "f051b7d0",
   "metadata": {},
   "outputs": [],
   "source": [
    "#Filters the dataframe to include only the rows where the trend_score is 0 - 100.\n",
    "df = df[df['trend_score'].between(0, 100)]\n"
   ]
  },
  {
   "cell_type": "markdown",
   "id": "9d2fe6da",
   "metadata": {},
   "source": [
    "### Cleaning (Continued...)\n",
    "\n",
    "### Step 4: Drop Rows Missing Key Identifiers\n",
    "\n",
    "We dropped rows that are missing critical identifiers (`id`, `location`, or `date`). These fields are required for reliable joins and time-series analysis. Logging the count of dropped rows helps track how much data is excluded at this stage."
   ]
  },
  {
   "cell_type": "code",
   "execution_count": 9,
   "id": "8b36cfa4",
   "metadata": {},
   "outputs": [
    {
     "data": {
      "text/html": [
       "<div>\n",
       "<style scoped>\n",
       "    .dataframe tbody tr th:only-of-type {\n",
       "        vertical-align: middle;\n",
       "    }\n",
       "\n",
       "    .dataframe tbody tr th {\n",
       "        vertical-align: top;\n",
       "    }\n",
       "\n",
       "    .dataframe thead th {\n",
       "        text-align: right;\n",
       "    }\n",
       "</style>\n",
       "<table border=\"1\" class=\"dataframe\">\n",
       "  <thead>\n",
       "    <tr style=\"text-align: right;\">\n",
       "      <th></th>\n",
       "      <th>artist</th>\n",
       "      <th>id</th>\n",
       "      <th>genres</th>\n",
       "      <th>location</th>\n",
       "      <th>date</th>\n",
       "      <th>trend_score</th>\n",
       "    </tr>\n",
       "  </thead>\n",
       "  <tbody>\n",
       "  </tbody>\n",
       "</table>\n",
       "</div>"
      ],
      "text/plain": [
       "Empty DataFrame\n",
       "Columns: [artist, id, genres, location, date, trend_score]\n",
       "Index: []"
      ]
     },
     "execution_count": 9,
     "metadata": {},
     "output_type": "execute_result"
    }
   ],
   "source": [
    "#Inspects the first few bad rows before dropping\n",
    "\n",
    "df[df[['id', 'location', 'date']].isna().any(axis=1)].head()\n"
   ]
  },
  {
   "cell_type": "code",
   "execution_count": 10,
   "id": "02a867e4",
   "metadata": {},
   "outputs": [
    {
     "name": "stdout",
     "output_type": "stream",
     "text": [
      "Rows dropped: 0\n",
      "Remaining rows: 18,476,926\n"
     ]
    }
   ],
   "source": [
    "before = len(df)\n",
    "\n",
    "# Drop rows with missing critical fields\n",
    "df = df.dropna(subset=[\"id\", \"location\", \"date\"])\n",
    "\n",
    "after = len(df)\n",
    "dropped = before - after\n",
    "\n",
    "print(f\"Rows dropped: {dropped:,}\")\n",
    "print(f\"Remaining rows: {after:,}\")\n"
   ]
  },
  {
   "cell_type": "markdown",
   "id": "df15b258",
   "metadata": {},
   "source": [
    "### Cleaning (Continued...)\n",
    "\n",
    "### Step 5: Normalize `genres` for Star Schema Modeling\n",
    "\n",
    "Instead of dropping rows with missing genre data, we replace nulls with `\"Unknown\"` to retain all records. Then, we split the semicolon-delimited genre string into a list, explode it so each row has a single genre, and clean the text (strip whitespace and standardize casing).\n",
    "\n",
    "This prepares the `genres` column for normalization into a `dim_genres` table and ensures our star schema meets 3NF.\n",
    "\n",
    "\n",
    "After replacing missing genres with `'Unknown'` and exploding the genre list, we found that 6.28% of rows were transformed. This confirms a manageable level of genre incompleteness, which we can track separately in downstream reporting.\n"
   ]
  },
  {
   "cell_type": "code",
   "execution_count": 11,
   "id": "d30447cc",
   "metadata": {},
   "outputs": [
    {
     "name": "stdout",
     "output_type": "stream",
     "text": [
      "Rows with genre = 'unknown': 2,673,128 (6.28%) of 42,564,439 total rows\n"
     ]
    }
   ],
   "source": [
    "# Step 5: Normalize genres\n",
    "# Fill missing genres with 'Unknown'\n",
    "df['genres'] = df['genres'].fillna('Unknown')\n",
    "\n",
    "# Split genres on semicolon\n",
    "df['genres'] = df['genres'].str.split(';')\n",
    "\n",
    "# Explode so each row has exactly one genre\n",
    "df = df.explode('genres')\n",
    "\n",
    "# Strip whitespace and lowercase for consistency\n",
    "df['genres'] = df['genres'].str.strip().str.lower()\n",
    "\n",
    "# Count how many rows have 'unknown' as genre after normalization\n",
    "unknown_count = (df['genres'] == 'unknown').sum()\n",
    "total_rows = len(df)\n",
    "percent_unknown = (unknown_count / total_rows) * 100\n",
    "\n",
    "print(f\"Rows with genre = 'unknown': {unknown_count:,} ({percent_unknown:.2f}%) of {total_rows:,} total rows\")\n",
    "\n"
   ]
  },
  {
   "cell_type": "markdown",
   "id": "d99f6ba8",
   "metadata": {},
   "source": [
    "### Cleaning (Continued...)\n",
    "\n",
    "### Step 6: Deduplicate Records\n",
    "\n",
    "We dropped duplicate rows based on a combination of artist ID, genre, location, and date. This ensures that each row in the fact table represents a unique observation.\n",
    "\n",
    "This step reduces redundancy and prepares the dataset for insertion into a fact table with consistent primary keys.\n"
   ]
  },
  {
   "cell_type": "code",
   "execution_count": 12,
   "id": "8b7b58f2",
   "metadata": {},
   "outputs": [
    {
     "name": "stdout",
     "output_type": "stream",
     "text": [
      "Deduplicated 0 rows (0.00%)\n",
      "Remaining rows: 42,564,439\n"
     ]
    }
   ],
   "source": [
    "# Step 6: Drop duplicate records\n",
    "before_dedup = len(df)\n",
    "\n",
    "# Deduplicate based on key identifiers (artist, genre, location, date)\n",
    "df = df.drop_duplicates(subset=[\"id\", \"genres\", \"location\", \"date\"])\n",
    "\n",
    "after_dedup = len(df)\n",
    "deduped_count = before_dedup - after_dedup\n",
    "deduped_percent = (deduped_count / before_dedup) * 100\n",
    "\n",
    "print(f\"Deduplicated {deduped_count:,} rows ({deduped_percent:.2f}%)\")\n",
    "print(f\"Remaining rows: {after_dedup:,}\")\n"
   ]
  }
 ],
 "metadata": {
  "kernelspec": {
   "display_name": "base",
   "language": "python",
   "name": "python3"
  },
  "language_info": {
   "codemirror_mode": {
    "name": "ipython",
    "version": 3
   },
   "file_extension": ".py",
   "mimetype": "text/x-python",
   "name": "python",
   "nbconvert_exporter": "python",
   "pygments_lexer": "ipython3",
   "version": "3.12.7"
  }
 },
 "nbformat": 4,
 "nbformat_minor": 5
}
